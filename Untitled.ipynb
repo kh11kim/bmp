{
 "cells": [
  {
   "cell_type": "code",
   "execution_count": 1,
   "id": "7787d0cf-71ca-42f4-96e0-83ad0b41cd3d",
   "metadata": {},
   "outputs": [],
   "source": [
    "import pandas as pd"
   ]
  },
  {
   "cell_type": "code",
   "execution_count": 19,
   "id": "c881cdd2-66c0-461a-bf25-7a3a7364dd3b",
   "metadata": {},
   "outputs": [],
   "source": [
    "df = pd.read_csv(\"test_result_param.csv\")\n",
    "df2 = pd.read_csv(\"test_result_kitchen_compare.csv\")"
   ]
  },
  {
   "cell_type": "code",
   "execution_count": 18,
   "id": "3c4e9542-d952-44ab-9366-0c17d03e37fe",
   "metadata": {},
   "outputs": [
    {
     "data": {
      "text/plain": [
       "<AxesSubplot:>"
      ]
     },
     "execution_count": 18,
     "metadata": {},
     "output_type": "execute_result"
    },
    {
     "data": {
      "image/png": "[encoded data removed]",
      "text/plain": [
       "<Figure size 432x288 with 1 Axes>"
      ]
     },
     "metadata": {
      "needs_background": "light"
     },
     "output_type": "display_data"
    }
   ],
   "source": [
    "df.boxplot()"
   ]
  },
  {
   "cell_type": "code",
   "execution_count": 20,
   "id": "cc56286e-c01b-466f-ba9d-79dd1727fa7c",
   "metadata": {},
   "outputs": [
    {
     "data": {
      "text/plain": [
       "<AxesSubplot:>"
      ]
     },
     "execution_count": 20,
     "metadata": {},
     "output_type": "execute_result"
    },
    {
     "data": {
      "image/png": "[encoded data removed]",
      "text/plain": [
       "<Figure size 432x288 with 1 Axes>"
      ]
     },
     "metadata": {
      "needs_background": "light"
     },
     "output_type": "display_data"
    }
   ],
   "source": [
    "df2.boxplot()"
   ]
  },
  {
   "cell_type": "code",
   "execution_count": 16,
   "id": "c70295dd-0b2e-4e63-a477-062771b664e8",
   "metadata": {},
   "outputs": [
    {
     "data": {
      "text/html": [
       "<div>\n",
       "<style scoped>\n",
       "    .dataframe tbody tr th:only-of-type {\n",
       "        vertical-align: middle;\n",
       "    }\n",
       "\n",
       "    .dataframe tbody tr th {\n",
       "        vertical-align: top;\n",
       "    }\n",
       "\n",
       "    .dataframe thead th {\n",
       "        text-align: right;\n",
       "    }\n",
       "</style>\n",
       "<table border=\"1\" class=\"dataframe\">\n",
       "  <thead>\n",
       "    <tr style=\"text-align: right;\">\n",
       "      <th></th>\n",
       "      <th>Unnamed: 0</th>\n",
       "      <th>prop_task0_reach0.1</th>\n",
       "      <th>prop_task0_reach0.3</th>\n",
       "      <th>prop_task0_reach0.5</th>\n",
       "      <th>prop_task0.2_reach0.1</th>\n",
       "      <th>prop_task0.2_reach0.3</th>\n",
       "      <th>prop_task0.2_reach0.5</th>\n",
       "      <th>prop_task0.4_reach0.1</th>\n",
       "      <th>prop_task0.4_reach0.3</th>\n",
       "      <th>prop_task0.4_reach0.5</th>\n",
       "    </tr>\n",
       "  </thead>\n",
       "  <tbody>\n",
       "    <tr>\n",
       "      <th>mean</th>\n",
       "      <td>4.50000</td>\n",
       "      <td>16.634158</td>\n",
       "      <td>15.197699</td>\n",
       "      <td>18.706458</td>\n",
       "      <td>26.261403</td>\n",
       "      <td>26.097744</td>\n",
       "      <td>23.048779</td>\n",
       "      <td>22.174913</td>\n",
       "      <td>14.401901</td>\n",
       "      <td>13.764799</td>\n",
       "    </tr>\n",
       "    <tr>\n",
       "      <th>std</th>\n",
       "      <td>3.02765</td>\n",
       "      <td>14.554106</td>\n",
       "      <td>8.294871</td>\n",
       "      <td>9.880710</td>\n",
       "      <td>12.770454</td>\n",
       "      <td>12.380746</td>\n",
       "      <td>14.986726</td>\n",
       "      <td>14.842550</td>\n",
       "      <td>5.354820</td>\n",
       "      <td>11.273117</td>\n",
       "    </tr>\n",
       "  </tbody>\n",
       "</table>\n",
       "</div>"
      ],
      "text/plain": [
       "      Unnamed: 0  prop_task0_reach0.1  prop_task0_reach0.3  \\\n",
       "mean     4.50000            16.634158            15.197699   \n",
       "std      3.02765            14.554106             8.294871   \n",
       "\n",
       "      prop_task0_reach0.5  prop_task0.2_reach0.1  prop_task0.2_reach0.3  \\\n",
       "mean            18.706458              26.261403              26.097744   \n",
       "std              9.880710              12.770454              12.380746   \n",
       "\n",
       "      prop_task0.2_reach0.5  prop_task0.4_reach0.1  prop_task0.4_reach0.3  \\\n",
       "mean              23.048779              22.174913              14.401901   \n",
       "std               14.986726              14.842550               5.354820   \n",
       "\n",
       "      prop_task0.4_reach0.5  \n",
       "mean              13.764799  \n",
       "std               11.273117  "
      ]
     },
     "execution_count": 16,
     "metadata": {},
     "output_type": "execute_result"
    }
   ],
   "source": [
    "df.agg([\"mean\", \"std\"])"
   ]
  },
  {
   "cell_type": "code",
   "execution_count": null,
   "id": "d7f36c6a-8181-473b-80f2-0df0e8dd22ba",
   "metadata": {},
   "outputs": [],
   "source": []
  }
 ],
 "metadata": {
  "kernelspec": {
   "display_name": "Python 3 (ipykernel)",
   "language": "python",
   "name": "python3"
  },
  "language_info": {
   "codemirror_mode": {
    "name": "ipython",
    "version": 3
   },
   "file_extension": ".py",
   "mimetype": "text/x-python",
   "name": "python",
   "nbconvert_exporter": "python",
   "pygments_lexer": "ipython3",
   "version": "3.9.7"
  }
 },
 "nbformat": 4,
 "nbformat_minor": 5
}
